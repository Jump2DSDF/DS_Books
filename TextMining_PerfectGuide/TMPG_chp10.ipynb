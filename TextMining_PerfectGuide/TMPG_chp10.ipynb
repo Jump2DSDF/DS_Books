{
 "cells": [
  {
   "cell_type": "code",
   "execution_count": 1,
   "id": "36cfddb7-2ccc-476d-90aa-120938db702e",
   "metadata": {},
   "outputs": [
    {
     "name": "stdout",
     "output_type": "stream",
     "text": [
      "Reviews count: 2000\n",
      "Length of the first review: 4043\n",
      "Labels: {'neg', 'pos'}\n"
     ]
    }
   ],
   "source": [
    "from nltk.corpus import movie_reviews\n",
    "fileids = movie_reviews.fileids()\n",
    "\n",
    "reviews = [movie_reviews.raw(fileid) for fileid in fileids]\n",
    "\n",
    "categories = [movie_reviews.categories(fileid)[0] for fileid in fileids]\n",
    "\n",
    "print('Reviews count:', len(reviews))\n",
    "print('Length of the first review:', len(reviews[0]))\n",
    "print('Labels:', set(categories))"
   ]
  },
  {
   "cell_type": "code",
   "execution_count": 2,
   "id": "c9d5d456-b645-44ea-815f-57c025b21870",
   "metadata": {},
   "outputs": [
    {
     "name": "stdout",
     "output_type": "stream",
     "text": [
      "Collecting tensorflow\n",
      "  Downloading tensorflow-2.13.1-cp38-cp38-win_amd64.whl.metadata (2.6 kB)\n",
      "INFO: pip is looking at multiple versions of tensorflow to determine which version is compatible with other requirements. This could take a while.\n",
      "  Downloading tensorflow-2.13.0-cp38-cp38-win_amd64.whl.metadata (2.6 kB)\n",
      "Collecting tensorflow-intel==2.13.0 (from tensorflow)\n",
      "  Downloading tensorflow_intel-2.13.0-cp38-cp38-win_amd64.whl.metadata (4.1 kB)\n",
      "Collecting absl-py>=1.0.0 (from tensorflow-intel==2.13.0->tensorflow)\n",
      "  Downloading absl_py-2.1.0-py3-none-any.whl.metadata (2.3 kB)\n",
      "Collecting astunparse>=1.6.0 (from tensorflow-intel==2.13.0->tensorflow)\n",
      "  Downloading astunparse-1.6.3-py2.py3-none-any.whl.metadata (4.4 kB)\n",
      "Collecting flatbuffers>=23.1.21 (from tensorflow-intel==2.13.0->tensorflow)\n",
      "  Downloading flatbuffers-24.3.25-py2.py3-none-any.whl.metadata (850 bytes)\n",
      "Collecting gast<=0.4.0,>=0.2.1 (from tensorflow-intel==2.13.0->tensorflow)\n",
      "  Downloading gast-0.4.0-py3-none-any.whl.metadata (1.1 kB)\n",
      "Collecting google-pasta>=0.1.1 (from tensorflow-intel==2.13.0->tensorflow)\n",
      "  Downloading google_pasta-0.2.0-py3-none-any.whl.metadata (814 bytes)\n",
      "Collecting h5py>=2.9.0 (from tensorflow-intel==2.13.0->tensorflow)\n",
      "  Downloading h5py-3.11.0-cp38-cp38-win_amd64.whl.metadata (2.5 kB)\n",
      "Collecting libclang>=13.0.0 (from tensorflow-intel==2.13.0->tensorflow)\n",
      "  Downloading libclang-18.1.1-py2.py3-none-win_amd64.whl.metadata (5.3 kB)\n",
      "Requirement already satisfied: numpy<=1.24.3,>=1.22 in c:\\users\\shko8\\.conda\\envs\\py3_8_5\\lib\\site-packages (from tensorflow-intel==2.13.0->tensorflow) (1.24.3)\n",
      "Collecting opt-einsum>=2.3.2 (from tensorflow-intel==2.13.0->tensorflow)\n",
      "  Downloading opt_einsum-3.4.0-py3-none-any.whl.metadata (6.3 kB)\n",
      "Requirement already satisfied: packaging in c:\\users\\shko8\\.conda\\envs\\py3_8_5\\lib\\site-packages (from tensorflow-intel==2.13.0->tensorflow) (23.2)\n",
      "Collecting protobuf!=4.21.0,!=4.21.1,!=4.21.2,!=4.21.3,!=4.21.4,!=4.21.5,<5.0.0dev,>=3.20.3 (from tensorflow-intel==2.13.0->tensorflow)\n",
      "  Downloading protobuf-4.25.5-cp38-cp38-win_amd64.whl.metadata (541 bytes)\n",
      "Requirement already satisfied: setuptools in c:\\users\\shko8\\.conda\\envs\\py3_8_5\\lib\\site-packages (from tensorflow-intel==2.13.0->tensorflow) (69.5.1)\n",
      "Requirement already satisfied: six>=1.12.0 in c:\\users\\shko8\\.conda\\envs\\py3_8_5\\lib\\site-packages (from tensorflow-intel==2.13.0->tensorflow) (1.16.0)\n",
      "Collecting termcolor>=1.1.0 (from tensorflow-intel==2.13.0->tensorflow)\n",
      "  Downloading termcolor-2.4.0-py3-none-any.whl.metadata (6.1 kB)\n",
      "Collecting typing-extensions<4.6.0,>=3.6.6 (from tensorflow-intel==2.13.0->tensorflow)\n",
      "  Downloading typing_extensions-4.5.0-py3-none-any.whl.metadata (8.5 kB)\n",
      "Requirement already satisfied: wrapt>=1.11.0 in c:\\users\\shko8\\.conda\\envs\\py3_8_5\\lib\\site-packages (from tensorflow-intel==2.13.0->tensorflow) (1.16.0)\n",
      "Collecting grpcio<2.0,>=1.24.3 (from tensorflow-intel==2.13.0->tensorflow)\n",
      "  Downloading grpcio-1.67.1-cp38-cp38-win_amd64.whl.metadata (4.0 kB)\n",
      "Collecting tensorboard<2.14,>=2.13 (from tensorflow-intel==2.13.0->tensorflow)\n",
      "  Downloading tensorboard-2.13.0-py3-none-any.whl.metadata (1.8 kB)\n",
      "Collecting tensorflow-estimator<2.14,>=2.13.0 (from tensorflow-intel==2.13.0->tensorflow)\n",
      "  Downloading tensorflow_estimator-2.13.0-py2.py3-none-any.whl.metadata (1.3 kB)\n",
      "Collecting keras<2.14,>=2.13.1 (from tensorflow-intel==2.13.0->tensorflow)\n",
      "  Downloading keras-2.13.1-py3-none-any.whl.metadata (2.4 kB)\n",
      "Collecting tensorflow-io-gcs-filesystem>=0.23.1 (from tensorflow-intel==2.13.0->tensorflow)\n",
      "  Downloading tensorflow_io_gcs_filesystem-0.31.0-cp38-cp38-win_amd64.whl.metadata (14 kB)\n",
      "Requirement already satisfied: wheel<1.0,>=0.23.0 in c:\\users\\shko8\\.conda\\envs\\py3_8_5\\lib\\site-packages (from astunparse>=1.6.0->tensorflow-intel==2.13.0->tensorflow) (0.43.0)\n",
      "Requirement already satisfied: google-auth<3,>=1.6.3 in c:\\users\\shko8\\.conda\\envs\\py3_8_5\\lib\\site-packages (from tensorboard<2.14,>=2.13->tensorflow-intel==2.13.0->tensorflow) (2.34.0)\n",
      "Collecting google-auth-oauthlib<1.1,>=0.5 (from tensorboard<2.14,>=2.13->tensorflow-intel==2.13.0->tensorflow)\n",
      "  Downloading google_auth_oauthlib-1.0.0-py2.py3-none-any.whl.metadata (2.7 kB)\n",
      "Collecting markdown>=2.6.8 (from tensorboard<2.14,>=2.13->tensorflow-intel==2.13.0->tensorflow)\n",
      "  Downloading Markdown-3.7-py3-none-any.whl.metadata (7.0 kB)\n",
      "Requirement already satisfied: requests<3,>=2.21.0 in c:\\users\\shko8\\.conda\\envs\\py3_8_5\\lib\\site-packages (from tensorboard<2.14,>=2.13->tensorflow-intel==2.13.0->tensorflow) (2.32.2)\n",
      "Collecting tensorboard-data-server<0.8.0,>=0.7.0 (from tensorboard<2.14,>=2.13->tensorflow-intel==2.13.0->tensorflow)\n",
      "  Downloading tensorboard_data_server-0.7.2-py3-none-any.whl.metadata (1.1 kB)\n",
      "Collecting werkzeug>=1.0.1 (from tensorboard<2.14,>=2.13->tensorflow-intel==2.13.0->tensorflow)\n",
      "  Downloading werkzeug-3.0.6-py3-none-any.whl.metadata (3.7 kB)\n",
      "Requirement already satisfied: cachetools<6.0,>=2.0.0 in c:\\users\\shko8\\.conda\\envs\\py3_8_5\\lib\\site-packages (from google-auth<3,>=1.6.3->tensorboard<2.14,>=2.13->tensorflow-intel==2.13.0->tensorflow) (5.5.0)\n",
      "Requirement already satisfied: pyasn1-modules>=0.2.1 in c:\\users\\shko8\\.conda\\envs\\py3_8_5\\lib\\site-packages (from google-auth<3,>=1.6.3->tensorboard<2.14,>=2.13->tensorflow-intel==2.13.0->tensorflow) (0.4.1)\n",
      "Requirement already satisfied: rsa<5,>=3.1.4 in c:\\users\\shko8\\.conda\\envs\\py3_8_5\\lib\\site-packages (from google-auth<3,>=1.6.3->tensorboard<2.14,>=2.13->tensorflow-intel==2.13.0->tensorflow) (4.9)\n",
      "Collecting requests-oauthlib>=0.7.0 (from google-auth-oauthlib<1.1,>=0.5->tensorboard<2.14,>=2.13->tensorflow-intel==2.13.0->tensorflow)\n",
      "  Downloading requests_oauthlib-2.0.0-py2.py3-none-any.whl.metadata (11 kB)\n",
      "Requirement already satisfied: importlib-metadata>=4.4 in c:\\users\\shko8\\.conda\\envs\\py3_8_5\\lib\\site-packages (from markdown>=2.6.8->tensorboard<2.14,>=2.13->tensorflow-intel==2.13.0->tensorflow) (7.0.1)\n",
      "Requirement already satisfied: charset-normalizer<4,>=2 in c:\\users\\shko8\\.conda\\envs\\py3_8_5\\lib\\site-packages (from requests<3,>=2.21.0->tensorboard<2.14,>=2.13->tensorflow-intel==2.13.0->tensorflow) (2.0.4)\n",
      "Requirement already satisfied: idna<4,>=2.5 in c:\\users\\shko8\\.conda\\envs\\py3_8_5\\lib\\site-packages (from requests<3,>=2.21.0->tensorboard<2.14,>=2.13->tensorflow-intel==2.13.0->tensorflow) (3.7)\n",
      "Requirement already satisfied: urllib3<3,>=1.21.1 in c:\\users\\shko8\\.conda\\envs\\py3_8_5\\lib\\site-packages (from requests<3,>=2.21.0->tensorboard<2.14,>=2.13->tensorflow-intel==2.13.0->tensorflow) (2.0.3)\n",
      "Requirement already satisfied: certifi>=2017.4.17 in c:\\users\\shko8\\.conda\\envs\\py3_8_5\\lib\\site-packages (from requests<3,>=2.21.0->tensorboard<2.14,>=2.13->tensorflow-intel==2.13.0->tensorflow) (2024.6.2)\n",
      "Requirement already satisfied: MarkupSafe>=2.1.1 in c:\\users\\shko8\\.conda\\envs\\py3_8_5\\lib\\site-packages (from werkzeug>=1.0.1->tensorboard<2.14,>=2.13->tensorflow-intel==2.13.0->tensorflow) (2.1.3)\n",
      "Requirement already satisfied: zipp>=0.5 in c:\\users\\shko8\\.conda\\envs\\py3_8_5\\lib\\site-packages (from importlib-metadata>=4.4->markdown>=2.6.8->tensorboard<2.14,>=2.13->tensorflow-intel==2.13.0->tensorflow) (3.17.0)\n",
      "Requirement already satisfied: pyasn1<0.7.0,>=0.4.6 in c:\\users\\shko8\\.conda\\envs\\py3_8_5\\lib\\site-packages (from pyasn1-modules>=0.2.1->google-auth<3,>=1.6.3->tensorboard<2.14,>=2.13->tensorflow-intel==2.13.0->tensorflow) (0.6.1)\n",
      "Collecting oauthlib>=3.0.0 (from requests-oauthlib>=0.7.0->google-auth-oauthlib<1.1,>=0.5->tensorboard<2.14,>=2.13->tensorflow-intel==2.13.0->tensorflow)\n",
      "  Downloading oauthlib-3.2.2-py3-none-any.whl.metadata (7.5 kB)\n",
      "Downloading tensorflow-2.13.0-cp38-cp38-win_amd64.whl (1.9 kB)\n",
      "Downloading tensorflow_intel-2.13.0-cp38-cp38-win_amd64.whl (276.5 MB)\n",
      "   ---------------------------------------- 0.0/276.5 MB ? eta -:--:--\n",
      "   ---------------------------------------- 2.3/276.5 MB 75.0 MB/s eta 0:00:04\n",
      "    --------------------------------------- 4.6/276.5 MB 48.5 MB/s eta 0:00:06\n",
      "   - -------------------------------------- 7.4/276.5 MB 47.4 MB/s eta 0:00:06\n",
      "   - -------------------------------------- 10.1/276.5 MB 49.5 MB/s eta 0:00:06\n",
      "   - -------------------------------------- 12.8/276.5 MB 50.4 MB/s eta 0:00:06\n",
      "   -- ------------------------------------- 15.4/276.5 MB 59.5 MB/s eta 0:00:05\n",
      "   -- ------------------------------------- 18.0/276.5 MB 59.5 MB/s eta 0:00:05\n",
      "   -- ------------------------------------- 19.4/276.5 MB 50.4 MB/s eta 0:00:06\n",
      "   -- ------------------------------------- 20.2/276.5 MB 43.7 MB/s eta 0:00:06\n",
      "   --- ------------------------------------ 21.2/276.5 MB 38.6 MB/s eta 0:00:07\n",
      "   --- ------------------------------------ 22.2/276.5 MB 34.4 MB/s eta 0:00:08\n",
      "   --- ------------------------------------ 23.7/276.5 MB 32.7 MB/s eta 0:00:08\n",
      "   --- ------------------------------------ 25.4/276.5 MB 29.8 MB/s eta 0:00:09\n",
      "   --- ------------------------------------ 26.8/276.5 MB 27.3 MB/s eta 0:00:10\n",
      "   ---- ----------------------------------- 28.4/276.5 MB 26.2 MB/s eta 0:00:10\n",
      "   ---- ----------------------------------- 30.2/276.5 MB 28.5 MB/s eta 0:00:09\n",
      "   ---- ----------------------------------- 32.0/276.5 MB 31.2 MB/s eta 0:00:08\n",
      "   ---- ----------------------------------- 34.0/276.5 MB 36.4 MB/s eta 0:00:07\n",
      "   ----- ---------------------------------- 35.9/276.5 MB 38.5 MB/s eta 0:00:07\n",
      "   ----- ---------------------------------- 37.7/276.5 MB 40.9 MB/s eta 0:00:06\n",
      "   ----- ---------------------------------- 39.7/276.5 MB 43.5 MB/s eta 0:00:06\n",
      "   ------ --------------------------------- 42.8/276.5 MB 46.9 MB/s eta 0:00:05\n",
      "   ------ --------------------------------- 45.2/276.5 MB 46.7 MB/s eta 0:00:05\n",
      "   ------ --------------------------------- 47.8/276.5 MB 50.4 MB/s eta 0:00:05\n",
      "   ------- -------------------------------- 50.6/276.5 MB 54.4 MB/s eta 0:00:05\n",
      "   ------- -------------------------------- 51.6/276.5 MB 54.7 MB/s eta 0:00:05\n",
      "   ------- -------------------------------- 51.6/276.5 MB 43.7 MB/s eta 0:00:06\n",
      "   ------- -------------------------------- 51.7/276.5 MB 36.4 MB/s eta 0:00:07\n",
      "   ------- -------------------------------- 52.0/276.5 MB 29.8 MB/s eta 0:00:08\n",
      "   ------- -------------------------------- 53.0/276.5 MB 27.3 MB/s eta 0:00:09\n",
      "   -------- ------------------------------- 55.6/276.5 MB 27.3 MB/s eta 0:00:09\n",
      "   -------- ------------------------------- 58.2/276.5 MB 27.3 MB/s eta 0:00:09\n",
      "   -------- ------------------------------- 60.8/276.5 MB 27.3 MB/s eta 0:00:08\n",
      "   --------- ------------------------------ 63.5/276.5 MB 59.5 MB/s eta 0:00:04\n",
      "   --------- ------------------------------ 67.0/276.5 MB 59.5 MB/s eta 0:00:04\n",
      "   ---------- ----------------------------- 69.7/276.5 MB 59.5 MB/s eta 0:00:04\n",
      "   ---------- ----------------------------- 72.4/276.5 MB 59.8 MB/s eta 0:00:04\n",
      "   ---------- ----------------------------- 75.1/276.5 MB 59.5 MB/s eta 0:00:04\n",
      "   ----------- ---------------------------- 77.8/276.5 MB 59.5 MB/s eta 0:00:04\n",
      "   ----------- ---------------------------- 80.4/276.5 MB 59.5 MB/s eta 0:00:04\n",
      "   ------------ --------------------------- 83.2/276.5 MB 59.5 MB/s eta 0:00:04\n",
      "   ------------ --------------------------- 85.9/276.5 MB 59.5 MB/s eta 0:00:04\n",
      "   ------------ --------------------------- 88.6/276.5 MB 59.5 MB/s eta 0:00:04\n",
      "   ------------- -------------------------- 91.3/276.5 MB 59.5 MB/s eta 0:00:04\n",
      "   ------------- -------------------------- 94.8/276.5 MB 59.8 MB/s eta 0:00:04\n",
      "   -------------- ------------------------- 98.4/276.5 MB 59.5 MB/s eta 0:00:03\n",
      "   -------------- ------------------------- 99.8/276.5 MB 54.4 MB/s eta 0:00:04\n",
      "   -------------- ------------------------ 100.0/276.5 MB 43.5 MB/s eta 0:00:05\n",
      "   -------------- ------------------------ 100.5/276.5 MB 36.3 MB/s eta 0:00:05\n",
      "   -------------- ------------------------ 101.8/276.5 MB 36.4 MB/s eta 0:00:05\n",
      "   -------------- ------------------------ 101.9/276.5 MB 32.8 MB/s eta 0:00:06\n",
      "   -------------- ------------------------ 101.9/276.5 MB 28.5 MB/s eta 0:00:07\n",
      "   -------------- ------------------------ 102.1/276.5 MB 24.3 MB/s eta 0:00:08\n",
      "   -------------- ------------------------ 102.2/276.5 MB 21.9 MB/s eta 0:00:08\n",
      "   -------------- ------------------------ 102.6/276.5 MB 19.8 MB/s eta 0:00:09\n",
      "   -------------- ------------------------ 105.1/276.5 MB 19.8 MB/s eta 0:00:09\n",
      "   --------------- ----------------------- 107.8/276.5 MB 19.2 MB/s eta 0:00:09\n",
      "   --------------- ----------------------- 110.5/276.5 MB 22.6 MB/s eta 0:00:08\n",
      "   --------------- ----------------------- 113.2/276.5 MB 59.5 MB/s eta 0:00:03\n",
      "   ---------------- ---------------------- 115.9/276.5 MB 59.5 MB/s eta 0:00:03\n",
      "   ---------------- ---------------------- 118.5/276.5 MB 59.5 MB/s eta 0:00:03\n",
      "   ----------------- --------------------- 121.3/276.5 MB 59.5 MB/s eta 0:00:03\n",
      "   ----------------- --------------------- 123.9/276.5 MB 59.5 MB/s eta 0:00:03\n",
      "   ----------------- --------------------- 126.6/276.5 MB 54.4 MB/s eta 0:00:03\n",
      "   ------------------ -------------------- 130.2/276.5 MB 59.5 MB/s eta 0:00:03\n",
      "   ------------------ -------------------- 132.9/276.5 MB 59.8 MB/s eta 0:00:03\n",
      "   ------------------- ------------------- 135.5/276.5 MB 59.5 MB/s eta 0:00:03\n",
      "   ------------------- ------------------- 138.0/276.5 MB 59.5 MB/s eta 0:00:03\n",
      "   ------------------- ------------------- 138.6/276.5 MB 50.4 MB/s eta 0:00:03\n",
      "   ------------------- ------------------- 138.8/276.5 MB 40.9 MB/s eta 0:00:04\n",
      "   ------------------- ------------------- 139.1/276.5 MB 34.4 MB/s eta 0:00:04\n",
      "   ------------------- ------------------- 139.8/276.5 MB 31.2 MB/s eta 0:00:05\n",
      "   ------------------- ------------------- 141.2/276.5 MB 28.4 MB/s eta 0:00:05\n",
      "   -------------------- ------------------ 143.1/276.5 MB 27.3 MB/s eta 0:00:05\n",
      "   -------------------- ------------------ 145.8/276.5 MB 27.3 MB/s eta 0:00:05\n",
      "   -------------------- ------------------ 148.0/276.5 MB 27.3 MB/s eta 0:00:05\n",
      "   --------------------- ----------------- 149.9/276.5 MB 40.9 MB/s eta 0:00:04\n",
      "   --------------------- ----------------- 151.7/276.5 MB 43.7 MB/s eta 0:00:03\n",
      "   --------------------- ----------------- 153.7/276.5 MB 43.5 MB/s eta 0:00:03\n",
      "   --------------------- ----------------- 155.6/276.5 MB 43.5 MB/s eta 0:00:03\n",
      "   ---------------------- ---------------- 157.6/276.5 MB 40.9 MB/s eta 0:00:03\n",
      "   ---------------------- ---------------- 159.5/276.5 MB 40.9 MB/s eta 0:00:03\n",
      "   ---------------------- ---------------- 162.2/276.5 MB 46.9 MB/s eta 0:00:03\n",
      "   ----------------------- --------------- 164.9/276.5 MB 50.4 MB/s eta 0:00:03\n",
      "   ----------------------- --------------- 167.6/276.5 MB 54.7 MB/s eta 0:00:02\n",
      "   ----------------------- --------------- 170.0/276.5 MB 59.5 MB/s eta 0:00:02\n",
      "   ----------------------- --------------- 170.0/276.5 MB 50.1 MB/s eta 0:00:03\n",
      "   ------------------------ -------------- 170.2/276.5 MB 36.3 MB/s eta 0:00:03\n",
      "   ------------------------ -------------- 170.3/276.5 MB 31.1 MB/s eta 0:00:04\n",
      "   ------------------------ -------------- 170.5/276.5 MB 28.5 MB/s eta 0:00:04\n",
      "   ------------------------ -------------- 172.0/276.5 MB 26.2 MB/s eta 0:00:04\n",
      "   ------------------------ -------------- 174.7/276.5 MB 26.2 MB/s eta 0:00:04\n",
      "   ------------------------- ------------- 177.3/276.5 MB 26.2 MB/s eta 0:00:04\n",
      "   ------------------------- ------------- 180.1/276.5 MB 26.2 MB/s eta 0:00:04\n",
      "   ------------------------- ------------- 182.7/276.5 MB 59.5 MB/s eta 0:00:02\n",
      "   ------------------------- ------------- 183.3/276.5 MB 46.7 MB/s eta 0:00:02\n",
      "   -------------------------- ------------ 185.9/276.5 MB 50.4 MB/s eta 0:00:02\n",
      "   -------------------------- ------------ 188.7/276.5 MB 50.4 MB/s eta 0:00:02\n",
      "   --------------------------- ----------- 192.3/276.5 MB 50.4 MB/s eta 0:00:02\n",
      "   --------------------------- ----------- 194.9/276.5 MB 59.5 MB/s eta 0:00:02\n",
      "   --------------------------- ----------- 197.7/276.5 MB 59.5 MB/s eta 0:00:02\n",
      "   ---------------------------- ---------- 200.3/276.5 MB 59.5 MB/s eta 0:00:02\n",
      "   ---------------------------- ---------- 203.0/276.5 MB 59.5 MB/s eta 0:00:02\n",
      "   ----------------------------- --------- 205.7/276.5 MB 59.5 MB/s eta 0:00:02\n",
      "   ----------------------------- --------- 208.4/276.5 MB 59.5 MB/s eta 0:00:02\n",
      "   ----------------------------- --------- 208.8/276.5 MB 50.4 MB/s eta 0:00:02\n",
      "   ----------------------------- --------- 208.8/276.5 MB 43.7 MB/s eta 0:00:02\n",
      "   ----------------------------- --------- 208.9/276.5 MB 34.4 MB/s eta 0:00:02\n",
      "   ----------------------------- --------- 209.0/276.5 MB 32.8 MB/s eta 0:00:03\n",
      "   ----------------------------- --------- 209.1/276.5 MB 27.3 MB/s eta 0:00:03\n",
      "   ----------------------------- --------- 209.3/276.5 MB 23.4 MB/s eta 0:00:03\n",
      "   ----------------------------- --------- 209.5/276.5 MB 21.1 MB/s eta 0:00:04\n",
      "   ----------------------------- --------- 211.2/276.5 MB 20.5 MB/s eta 0:00:04\n",
      "   ------------------------------ -------- 213.9/276.5 MB 20.5 MB/s eta 0:00:04\n",
      "   ------------------------------ -------- 216.5/276.5 MB 20.5 MB/s eta 0:00:03\n",
      "   ------------------------------ -------- 219.3/276.5 MB 31.2 MB/s eta 0:00:02\n",
      "   ------------------------------- ------- 221.9/276.5 MB 59.5 MB/s eta 0:00:01\n",
      "   ------------------------------- ------- 224.6/276.5 MB 54.4 MB/s eta 0:00:01\n",
      "   -------------------------------- ------ 227.6/276.5 MB 59.5 MB/s eta 0:00:01\n",
      "   -------------------------------- ------ 231.3/276.5 MB 59.5 MB/s eta 0:00:01\n",
      "   -------------------------------- ------ 234.0/276.5 MB 59.5 MB/s eta 0:00:01\n",
      "   --------------------------------- ----- 236.7/276.5 MB 59.5 MB/s eta 0:00:01\n",
      "   --------------------------------- ----- 239.4/276.5 MB 59.5 MB/s eta 0:00:01\n",
      "   --------------------------------- ----- 240.8/276.5 MB 54.4 MB/s eta 0:00:01\n",
      "   ---------------------------------- ---- 243.2/276.5 MB 50.4 MB/s eta 0:00:01\n",
      "   ---------------------------------- ---- 245.9/276.5 MB 50.1 MB/s eta 0:00:01\n",
      "   ----------------------------------- --- 248.6/276.5 MB 50.4 MB/s eta 0:00:01\n",
      "   ----------------------------------- --- 248.7/276.5 MB 46.7 MB/s eta 0:00:01\n",
      "   ----------------------------------- --- 248.8/276.5 MB 36.3 MB/s eta 0:00:01\n",
      "   ----------------------------------- --- 249.0/276.5 MB 32.8 MB/s eta 0:00:01\n",
      "   ----------------------------------- --- 249.4/276.5 MB 28.5 MB/s eta 0:00:01\n",
      "   ----------------------------------- --- 252.8/276.5 MB 29.7 MB/s eta 0:00:01\n",
      "   ------------------------------------ -- 255.6/276.5 MB 29.7 MB/s eta 0:00:01\n",
      "   ------------------------------------ -- 258.2/276.5 MB 29.7 MB/s eta 0:00:01\n",
      "   ------------------------------------ -- 261.0/276.5 MB 59.8 MB/s eta 0:00:01\n",
      "   ------------------------------------- - 263.7/276.5 MB 59.5 MB/s eta 0:00:01\n",
      "   ------------------------------------- - 266.4/276.5 MB 59.5 MB/s eta 0:00:01\n",
      "   ------------------------------------- - 269.0/276.5 MB 59.5 MB/s eta 0:00:01\n",
      "   --------------------------------------  271.7/276.5 MB 59.5 MB/s eta 0:00:01\n",
      "   --------------------------------------  273.8/276.5 MB 54.4 MB/s eta 0:00:01\n",
      "   --------------------------------------  276.4/276.5 MB 59.5 MB/s eta 0:00:01\n",
      "   --------------------------------------  276.5/276.5 MB 54.4 MB/s eta 0:00:01\n",
      "   --------------------------------------  276.5/276.5 MB 54.4 MB/s eta 0:00:01\n",
      "   --------------------------------------  276.5/276.5 MB 54.4 MB/s eta 0:00:01\n",
      "   --------------------------------------  276.5/276.5 MB 54.4 MB/s eta 0:00:01\n",
      "   --------------------------------------- 276.5/276.5 MB 27.3 MB/s eta 0:00:00\n",
      "Downloading absl_py-2.1.0-py3-none-any.whl (133 kB)\n",
      "   ---------------------------------------- 0.0/133.7 kB ? eta -:--:--\n",
      "   ---------------------------------------- 133.7/133.7 kB ? eta 0:00:00\n",
      "Downloading astunparse-1.6.3-py2.py3-none-any.whl (12 kB)\n",
      "Downloading flatbuffers-24.3.25-py2.py3-none-any.whl (26 kB)\n",
      "Downloading gast-0.4.0-py3-none-any.whl (9.8 kB)\n",
      "Downloading google_pasta-0.2.0-py3-none-any.whl (57 kB)\n",
      "   ---------------------------------------- 0.0/57.5 kB ? eta -:--:--\n",
      "   ---------------------------------------- 57.5/57.5 kB ? eta 0:00:00\n",
      "Downloading grpcio-1.67.1-cp38-cp38-win_amd64.whl (4.4 MB)\n",
      "   ---------------------------------------- 0.0/4.4 MB ? eta -:--:--\n",
      "   ------------------------ --------------- 2.7/4.4 MB 56.9 MB/s eta 0:00:01\n",
      "   ---------------------------------------- 4.4/4.4 MB 55.7 MB/s eta 0:00:00\n",
      "Downloading h5py-3.11.0-cp38-cp38-win_amd64.whl (3.0 MB)\n",
      "   ---------------------------------------- 0.0/3.0 MB ? eta -:--:--\n",
      "   ----------------------------------- ---- 2.7/3.0 MB 56.2 MB/s eta 0:00:01\n",
      "   ---------------------------------------- 3.0/3.0 MB 47.3 MB/s eta 0:00:00\n",
      "Downloading keras-2.13.1-py3-none-any.whl (1.7 MB)\n",
      "   ---------------------------------------- 0.0/1.7 MB ? eta -:--:--\n",
      "   ---------------------------------------- 1.7/1.7 MB 54.6 MB/s eta 0:00:00\n",
      "Downloading libclang-18.1.1-py2.py3-none-win_amd64.whl (26.4 MB)\n",
      "   ---------------------------------------- 0.0/26.4 MB ? eta -:--:--\n",
      "   --- ------------------------------------ 2.6/26.4 MB 81.9 MB/s eta 0:00:01\n",
      "   --------- ------------------------------ 6.2/26.4 MB 65.9 MB/s eta 0:00:01\n",
      "   ------------- -------------------------- 8.9/26.4 MB 63.3 MB/s eta 0:00:01\n",
      "   ----------------- ---------------------- 11.6/26.4 MB 59.5 MB/s eta 0:00:01\n",
      "   --------------------- ------------------ 14.3/26.4 MB 59.5 MB/s eta 0:00:01\n",
      "   ------------------------- -------------- 16.9/26.4 MB 59.5 MB/s eta 0:00:01\n",
      "   ----------------------------- ---------- 19.7/26.4 MB 59.5 MB/s eta 0:00:01\n",
      "   --------------------------------- ------ 22.4/26.4 MB 59.8 MB/s eta 0:00:01\n",
      "   -------------------------------------- - 25.1/26.4 MB 59.5 MB/s eta 0:00:01\n",
      "   ---------------------------------------  26.4/26.4 MB 59.5 MB/s eta 0:00:01\n",
      "   ---------------------------------------- 26.4/26.4 MB 50.4 MB/s eta 0:00:00\n",
      "Downloading opt_einsum-3.4.0-py3-none-any.whl (71 kB)\n",
      "   ---------------------------------------- 0.0/71.9 kB ? eta -:--:--\n",
      "   ---------------------------------------- 71.9/71.9 kB 3.9 MB/s eta 0:00:00\n",
      "Downloading protobuf-4.25.5-cp38-cp38-win_amd64.whl (413 kB)\n",
      "   ---------------------------------------- 0.0/413.4 kB ? eta -:--:--\n",
      "   ------------------------------- -------- 327.7/413.4 kB 6.8 MB/s eta 0:00:01\n",
      "   ---------------------------------------- 413.4/413.4 kB 6.5 MB/s eta 0:00:00\n",
      "Downloading tensorboard-2.13.0-py3-none-any.whl (5.6 MB)\n",
      "   ---------------------------------------- 0.0/5.6 MB ? eta -:--:--\n",
      "   ----------------------- ---------------- 3.2/5.6 MB 68.2 MB/s eta 0:00:01\n",
      "   ----------------------------------- ---- 5.0/5.6 MB 45.4 MB/s eta 0:00:01\n",
      "   ---------------------------------------- 5.6/5.6 MB 39.4 MB/s eta 0:00:00\n",
      "Downloading tensorflow_estimator-2.13.0-py2.py3-none-any.whl (440 kB)\n",
      "   ---------------------------------------- 0.0/440.8 kB ? eta -:--:--\n",
      "   --------------------------------------- 440.8/440.8 kB 28.7 MB/s eta 0:00:00\n",
      "Downloading tensorflow_io_gcs_filesystem-0.31.0-cp38-cp38-win_amd64.whl (1.5 MB)\n",
      "   ---------------------------------------- 0.0/1.5 MB ? eta -:--:--\n",
      "   ---------------------------------------- 1.5/1.5 MB 47.6 MB/s eta 0:00:00\n",
      "Downloading termcolor-2.4.0-py3-none-any.whl (7.7 kB)\n",
      "Downloading typing_extensions-4.5.0-py3-none-any.whl (27 kB)\n",
      "Downloading google_auth_oauthlib-1.0.0-py2.py3-none-any.whl (18 kB)\n",
      "Downloading Markdown-3.7-py3-none-any.whl (106 kB)\n",
      "   ---------------------------------------- 0.0/106.3 kB ? eta -:--:--\n",
      "   ---------------------------------------- 106.3/106.3 kB ? eta 0:00:00\n",
      "Downloading tensorboard_data_server-0.7.2-py3-none-any.whl (2.4 kB)\n",
      "Downloading werkzeug-3.0.6-py3-none-any.whl (227 kB)\n",
      "   ---------------------------------------- 0.0/228.0 kB ? eta -:--:--\n",
      "   ---------------------------------------- 228.0/228.0 kB ? eta 0:00:00\n",
      "Downloading requests_oauthlib-2.0.0-py2.py3-none-any.whl (24 kB)\n",
      "Downloading oauthlib-3.2.2-py3-none-any.whl (151 kB)\n",
      "   ---------------------------------------- 0.0/151.7 kB ? eta -:--:--\n",
      "   ---------------------------------------- 151.7/151.7 kB 8.8 MB/s eta 0:00:00\n",
      "Installing collected packages: libclang, flatbuffers, werkzeug, typing-extensions, termcolor, tensorflow-io-gcs-filesystem, tensorflow-estimator, tensorboard-data-server, protobuf, opt-einsum, oauthlib, keras, h5py, grpcio, google-pasta, gast, astunparse, absl-py, requests-oauthlib, markdown, google-auth-oauthlib, tensorboard, tensorflow-intel, tensorflow\n",
      "  Attempting uninstall: typing-extensions\n",
      "    Found existing installation: typing_extensions 4.11.0\n",
      "    Uninstalling typing_extensions-4.11.0:\n",
      "      Successfully uninstalled typing_extensions-4.11.0\n",
      "  Attempting uninstall: protobuf\n",
      "    Found existing installation: protobuf 5.28.1\n",
      "    Uninstalling protobuf-5.28.1:\n",
      "      Successfully uninstalled protobuf-5.28.1\n",
      "Successfully installed absl-py-2.1.0 astunparse-1.6.3 flatbuffers-24.3.25 gast-0.4.0 google-auth-oauthlib-1.0.0 google-pasta-0.2.0 grpcio-1.67.1 h5py-3.11.0 keras-2.13.1 libclang-18.1.1 markdown-3.7 oauthlib-3.2.2 opt-einsum-3.4.0 protobuf-4.25.5 requests-oauthlib-2.0.0 tensorboard-2.13.0 tensorboard-data-server-0.7.2 tensorflow-2.13.0 tensorflow-estimator-2.13.0 tensorflow-intel-2.13.0 tensorflow-io-gcs-filesystem-0.31.0 termcolor-2.4.0 typing-extensions-4.5.0 werkzeug-3.0.6\n"
     ]
    },
    {
     "name": "stderr",
     "output_type": "stream",
     "text": [
      "ERROR: pip's dependency resolver does not currently take into account all the packages that are installed. This behaviour is the source of the following dependency conflicts.\n",
      "openai 1.52.2 requires typing-extensions<5,>=4.11, but you have typing-extensions 4.5.0 which is incompatible.\n",
      "pydantic 2.9.2 requires typing-extensions>=4.6.1; python_version < \"3.13\", but you have typing-extensions 4.5.0 which is incompatible.\n",
      "pydantic-core 2.23.4 requires typing-extensions!=4.7.0,>=4.6.0, but you have typing-extensions 4.5.0 which is incompatible.\n",
      "selenium 4.25.0 requires typing_extensions~=4.9, but you have typing-extensions 4.5.0 which is incompatible.\n"
     ]
    }
   ],
   "source": [
    "!pip install tensorflow"
   ]
  },
  {
   "cell_type": "code",
   "execution_count": 3,
   "id": "faac53a7-45c2-4236-b43b-c15f166c8fca",
   "metadata": {},
   "outputs": [],
   "source": [
    "import numpy as np\n",
    "import tensorflow as tf\n",
    "from tensorflow.keras.preprocessing.text import Tokenizer\n",
    "np.random.seed(7)\n",
    "tf.random.set_seed(7)"
   ]
  },
  {
   "cell_type": "code",
   "execution_count": 4,
   "id": "31a27f0c-b1f2-4868-a602-4258f6b22cd5",
   "metadata": {},
   "outputs": [
    {
     "name": "stdout",
     "output_type": "stream",
     "text": [
      "Lenghts of first 10 documents: [710, 240, 486, 479, 733, 671, 550, 584, 702, 776]\n"
     ]
    }
   ],
   "source": [
    "max_words = 1000\n",
    "tokenizer = Tokenizer(num_words=max_words, oov_token='UNK')\n",
    "tokenizer.fit_on_texts(reviews)\n",
    "\n",
    "X = tokenizer.texts_to_sequences(reviews)\n",
    "\n",
    "print('Lenghts of first 10 documents:', [len(doc) for doc in X[:10]])"
   ]
  },
  {
   "cell_type": "code",
   "execution_count": 5,
   "id": "e6e2d952-bc79-42ba-b041-886aaa5d39a2",
   "metadata": {},
   "outputs": [
    {
     "name": "stdout",
     "output_type": "stream",
     "text": [
      "Index of 'the': 2\n",
      "Index of 'review': 466\n",
      "Index of out-of-vocaburary words: 1\n"
     ]
    }
   ],
   "source": [
    "import numpy as np\n",
    "print(\"Index of 'the':\", tokenizer.word_index[\"the\"])\n",
    "print(\"Index of 'review':\", tokenizer.word_index[\"review\"])\n",
    "print(\"Index of out-of-vocaburary words:\", tokenizer.word_index[\"UNK\"])"
   ]
  },
  {
   "cell_type": "code",
   "execution_count": 6,
   "id": "2499d0f0-9f68-4f18-a4a7-215f9bb2235b",
   "metadata": {},
   "outputs": [],
   "source": [
    "from tensorflow.keras.preprocessing.sequence import pad_sequences\n",
    "maxlen = 500\n",
    "\n",
    "X = pad_sequences(X, maxlen=maxlen, truncating='pre')"
   ]
  },
  {
   "cell_type": "code",
   "execution_count": 7,
   "id": "6e4b77eb-3cda-4c6e-851f-81dcfdcc555a",
   "metadata": {},
   "outputs": [
    {
     "name": "stdout",
     "output_type": "stream",
     "text": [
      "{0, 1}\n"
     ]
    }
   ],
   "source": [
    "import numpy as np\n",
    "label_dict = {'pos':1, 'neg':0}\n",
    "y = np.array([label_dict[c] for c in categories])\n",
    "print(set(y))"
   ]
  },
  {
   "cell_type": "code",
   "execution_count": 8,
   "id": "6c4d8b33-da18-4b66-80ad-b50c0f973402",
   "metadata": {},
   "outputs": [
    {
     "name": "stdout",
     "output_type": "stream",
     "text": [
      "Train set count: 1600\n",
      "Test set count: 400\n",
      "Test samples: [0 1 1 0 1 1 1 1 1 0 1 1 0 0 0 1 0 1 1 1]\n"
     ]
    }
   ],
   "source": [
    "from sklearn.model_selection import train_test_split\n",
    "X_train, X_test, y_train, y_test = train_test_split(X, y, test_size=0.2, random_state=0)\n",
    "\n",
    "print('Train set count:', len(X_train))\n",
    "print('Test set count:', len(X_test))\n",
    "print('Test samples:', y_test[:20])"
   ]
  },
  {
   "cell_type": "code",
   "execution_count": 9,
   "id": "8633bc3e-64be-41e5-9e3a-9cc885ef5cac",
   "metadata": {},
   "outputs": [
    {
     "name": "stdout",
     "output_type": "stream",
     "text": [
      "Model: \"sequential\"\n",
      "_________________________________________________________________\n",
      " Layer (type)                Output Shape              Param #   \n",
      "=================================================================\n",
      " embedding (Embedding)       (None, 500, 32)           32000     \n",
      "                                                                 \n",
      " flatten (Flatten)           (None, 16000)             0         \n",
      "                                                                 \n",
      " dense (Dense)               (None, 1)                 16001     \n",
      "                                                                 \n",
      "=================================================================\n",
      "Total params: 48001 (187.50 KB)\n",
      "Trainable params: 48001 (187.50 KB)\n",
      "Non-trainable params: 0 (0.00 Byte)\n",
      "_________________________________________________________________\n"
     ]
    }
   ],
   "source": [
    "from tensorflow.keras.models import Sequential\n",
    "from tensorflow.keras.layers import Flatten, Dense, Embedding\n",
    "\n",
    "model = Sequential([\n",
    "    Embedding(max_words, 32, input_shape=(maxlen,)),\n",
    "    Flatten(),\n",
    "    Dense(1, activation='sigmoid')\n",
    "])\n",
    "\n",
    "model.summary()"
   ]
  },
  {
   "cell_type": "code",
   "execution_count": 10,
   "id": "fa993a0c-7713-4602-ba6c-4c7253865aaf",
   "metadata": {},
   "outputs": [
    {
     "name": "stdout",
     "output_type": "stream",
     "text": [
      "Epoch 1/10\n",
      "40/40 [==============================] - 0s 4ms/step - loss: 0.6935 - acc: 0.5156 - val_loss: 0.6929 - val_acc: 0.5156\n",
      "Epoch 2/10\n",
      "40/40 [==============================] - 0s 2ms/step - loss: 0.6314 - acc: 0.7477 - val_loss: 0.6910 - val_acc: 0.5281\n",
      "Epoch 3/10\n",
      "40/40 [==============================] - 0s 2ms/step - loss: 0.5514 - acc: 0.8898 - val_loss: 0.6978 - val_acc: 0.5063\n",
      "Epoch 4/10\n",
      "40/40 [==============================] - 0s 2ms/step - loss: 0.4534 - acc: 0.9375 - val_loss: 0.6888 - val_acc: 0.5500\n",
      "Epoch 5/10\n",
      "40/40 [==============================] - 0s 2ms/step - loss: 0.3505 - acc: 0.9781 - val_loss: 0.6832 - val_acc: 0.5844\n",
      "Epoch 6/10\n",
      "40/40 [==============================] - 0s 2ms/step - loss: 0.2572 - acc: 0.9891 - val_loss: 0.6788 - val_acc: 0.6313\n",
      "Epoch 7/10\n",
      "40/40 [==============================] - 0s 2ms/step - loss: 0.1811 - acc: 0.9984 - val_loss: 0.6825 - val_acc: 0.6281\n",
      "Epoch 8/10\n",
      "40/40 [==============================] - 0s 2ms/step - loss: 0.1218 - acc: 0.9977 - val_loss: 0.6946 - val_acc: 0.6250\n",
      "Epoch 9/10\n",
      "40/40 [==============================] - 0s 2ms/step - loss: 0.0789 - acc: 0.9992 - val_loss: 0.7112 - val_acc: 0.6250\n",
      "Epoch 10/10\n",
      "40/40 [==============================] - 0s 2ms/step - loss: 0.0496 - acc: 1.0000 - val_loss: 0.7221 - val_acc: 0.6469\n"
     ]
    }
   ],
   "source": [
    "model.compile(optimizer='rmsprop', loss='binary_crossentropy', metrics=['acc'])\n",
    "\n",
    "history = model.fit(X_train, y_train,\n",
    "                   epochs=10,\n",
    "                   verbose=1,\n",
    "                   validation_split=0.2)"
   ]
  },
  {
   "cell_type": "code",
   "execution_count": 11,
   "id": "0510c5ae-0c9f-49c1-a130-24d30eabe681",
   "metadata": {},
   "outputs": [
    {
     "data": {
      "image/png": "[encoded data removed]",
      "text/plain": [
       "<Figure size 640x480 with 1 Axes>"
      ]
     },
     "metadata": {},
     "output_type": "display_data"
    }
   ],
   "source": [
    "%matplotlib inline\n",
    "import matplotlib.pyplot as plt\n",
    "\n",
    "def plot_results(history, metric):\n",
    "    plt.plot(history.history[metric], 'b', label='Training '+metric)\n",
    "    plt.plot(history.history['val_'+metric], 'r--', label='Validation '+metric)\n",
    "    plt.title('Training and validation '+metric)\n",
    "    plt.xlabel('Epochs')\n",
    "    plt.ylabel(metric)\n",
    "    plt.legend()\n",
    "    plt.show()\n",
    "\n",
    "plot_results(history, 'acc')"
   ]
  },
  {
   "cell_type": "code",
   "execution_count": 12,
   "id": "8ae2553b-87fe-4f30-b5ea-ab09f1426021",
   "metadata": {},
   "outputs": [
    {
     "name": "stdout",
     "output_type": "stream",
     "text": [
      "13/13 [==============================] - 0s 1ms/step - loss: 0.7172 - acc: 0.6225\n",
      "#Test accuracy:0.623\n"
     ]
    }
   ],
   "source": [
    "score = model.evaluate(X_test, y_test)\n",
    "print(f'#Test accuracy:{score[1]:.3f}')"
   ]
  },
  {
   "cell_type": "code",
   "execution_count": 13,
   "id": "25618ae5-9a48-416c-9a84-00d0443b83f1",
   "metadata": {},
   "outputs": [
    {
     "name": "stdout",
     "output_type": "stream",
     "text": [
      "Model: \"sequential_1\"\n",
      "_________________________________________________________________\n",
      " Layer (type)                Output Shape              Param #   \n",
      "=================================================================\n",
      " embedding_1 (Embedding)     (None, None, 32)          32000     \n",
      "                                                                 \n",
      " simple_rnn (SimpleRNN)      (None, 32)                2080      \n",
      "                                                                 \n",
      " dense_1 (Dense)             (None, 32)                1056      \n",
      "                                                                 \n",
      " dense_2 (Dense)             (None, 1)                 33        \n",
      "                                                                 \n",
      "=================================================================\n",
      "Total params: 35169 (137.38 KB)\n",
      "Trainable params: 35169 (137.38 KB)\n",
      "Non-trainable params: 0 (0.00 Byte)\n",
      "_________________________________________________________________\n"
     ]
    }
   ],
   "source": [
    "from tensorflow.keras.layers import SimpleRNN\n",
    "from tensorflow.keras.optimizers import Adam\n",
    "\n",
    "model = Sequential([\n",
    "    Embedding(max_words, 32),\n",
    "    SimpleRNN(32),\n",
    "    Dense(32, activation='relu'),\n",
    "    Dense(1, activation='sigmoid')\n",
    "])\n",
    "\n",
    "model.summary()"
   ]
  },
  {
   "cell_type": "code",
   "execution_count": 14,
   "id": "c3f255d2-f2ba-4d31-a83f-a4bbe4095e5a",
   "metadata": {},
   "outputs": [
    {
     "name": "stdout",
     "output_type": "stream",
     "text": [
      "Model: \"sequential_2\"\n",
      "_________________________________________________________________\n",
      " Layer (type)                Output Shape              Param #   \n",
      "=================================================================\n",
      " embedding_2 (Embedding)     (None, 500, 32)           32000     \n",
      "                                                                 \n",
      " simple_rnn_1 (SimpleRNN)    (None, 32)                2080      \n",
      "                                                                 \n",
      " dense_3 (Dense)             (None, 32)                1056      \n",
      "                                                                 \n",
      " dense_4 (Dense)             (None, 1)                 33        \n",
      "                                                                 \n",
      "=================================================================\n",
      "Total params: 35169 (137.38 KB)\n",
      "Trainable params: 35169 (137.38 KB)\n",
      "Non-trainable params: 0 (0.00 Byte)\n",
      "_________________________________________________________________\n"
     ]
    }
   ],
   "source": [
    "from tensorflow.keras.layers import SimpleRNN\n",
    "from tensorflow.keras.optimizers import Adam\n",
    "\n",
    "model = Sequential([\n",
    "    Embedding(max_words, 32, input_shape=(maxlen,)),\n",
    "    SimpleRNN(32),\n",
    "    Dense(32, activation='relu'),\n",
    "    Dense(1, activation='sigmoid')\n",
    "])\n",
    "\n",
    "model.summary()"
   ]
  },
  {
   "cell_type": "code",
   "execution_count": 15,
   "id": "05f45acc-ed5b-4656-b9c8-2cc8658da1b1",
   "metadata": {},
   "outputs": [
    {
     "data": {
      "image/png": "[encoded data removed]",
      "text/plain": [
       "<Figure size 640x480 with 1 Axes>"
      ]
     },
     "metadata": {},
     "output_type": "display_data"
    },
    {
     "name": "stdout",
     "output_type": "stream",
     "text": [
      "13/13 [==============================] - 0s 8ms/step - loss: 0.5858 - acc: 0.7350\n",
      "#Test accuracy:0.735\n"
     ]
    }
   ],
   "source": [
    "adam = Adam(learning_rate=1e-4)\n",
    "model.compile(optimizer=adam, loss='binary_crossentropy', metrics=['acc'])\n",
    "history = model.fit(X_train, y_train,\n",
    "                   epochs=10,\n",
    "                   verbose=0,\n",
    "                   validation_split=0.2)\n",
    "plot_results(history, 'acc')\n",
    "\n",
    "score = model.evaluate(X_test,y_test)\n",
    "print(f'#Test accuracy:{score[1]:.3f}')"
   ]
  },
  {
   "cell_type": "code",
   "execution_count": 16,
   "id": "c6aff0f1-a6a3-473e-8bc7-0d2962172770",
   "metadata": {},
   "outputs": [
    {
     "name": "stdout",
     "output_type": "stream",
     "text": [
      "Model: \"sequential_3\"\n",
      "_________________________________________________________________\n",
      " Layer (type)                Output Shape              Param #   \n",
      "=================================================================\n",
      " embedding_3 (Embedding)     (None, 500, 64)           64000     \n",
      "                                                                 \n",
      " bidirectional (Bidirection  (None, 128)               66048     \n",
      " al)                                                             \n",
      "                                                                 \n",
      " dense_5 (Dense)             (None, 64)                8256      \n",
      "                                                                 \n",
      " dense_6 (Dense)             (None, 1)                 65        \n",
      "                                                                 \n",
      "=================================================================\n",
      "Total params: 138369 (540.50 KB)\n",
      "Trainable params: 138369 (540.50 KB)\n",
      "Non-trainable params: 0 (0.00 Byte)\n",
      "_________________________________________________________________\n"
     ]
    }
   ],
   "source": [
    "from tensorflow.keras.layers import LSTM, Bidirectional\n",
    "\n",
    "model = Sequential([\n",
    "    Embedding(max_words, 64, input_shape=(maxlen,)),\n",
    "    Bidirectional(LSTM(64)),\n",
    "    Dense(64, activation='relu'),\n",
    "    Dense(1, activation='sigmoid')\n",
    "])\n",
    "\n",
    "model.summary()\n",
    "\n"
   ]
  },
  {
   "cell_type": "code",
   "execution_count": 17,
   "id": "ada0c8ed-a315-4c68-b073-df08e88ec840",
   "metadata": {},
   "outputs": [
    {
     "ename": "KeyError",
     "evalue": "in user code:\n\n    File \"C:\\Users\\shko8\\.conda\\envs\\py3_8_5\\lib\\site-packages\\keras\\src\\engine\\training.py\", line 1338, in train_function  *\n        return step_function(self, iterator)\n    File \"C:\\Users\\shko8\\.conda\\envs\\py3_8_5\\lib\\site-packages\\keras\\src\\engine\\training.py\", line 1322, in step_function  **\n        outputs = model.distribute_strategy.run(run_step, args=(data,))\n    File \"C:\\Users\\shko8\\.conda\\envs\\py3_8_5\\lib\\site-packages\\keras\\src\\engine\\training.py\", line 1303, in run_step  **\n        outputs = model.train_step(data)\n    File \"C:\\Users\\shko8\\.conda\\envs\\py3_8_5\\lib\\site-packages\\keras\\src\\engine\\training.py\", line 1084, in train_step\n        self.optimizer.minimize(loss, self.trainable_variables, tape=tape)\n    File \"C:\\Users\\shko8\\.conda\\envs\\py3_8_5\\lib\\site-packages\\keras\\src\\optimizers\\optimizer.py\", line 544, in minimize\n        self.apply_gradients(grads_and_vars)\n    File \"C:\\Users\\shko8\\.conda\\envs\\py3_8_5\\lib\\site-packages\\keras\\src\\optimizers\\optimizer.py\", line 1230, in apply_gradients\n        return super().apply_gradients(grads_and_vars, name=name)\n    File \"C:\\Users\\shko8\\.conda\\envs\\py3_8_5\\lib\\site-packages\\keras\\src\\optimizers\\optimizer.py\", line 652, in apply_gradients\n        iteration = self._internal_apply_gradients(grads_and_vars)\n    File \"C:\\Users\\shko8\\.conda\\envs\\py3_8_5\\lib\\site-packages\\keras\\src\\optimizers\\optimizer.py\", line 1260, in _internal_apply_gradients\n        return tf.__internal__.distribute.interim.maybe_merge_call(\n    File \"C:\\Users\\shko8\\.conda\\envs\\py3_8_5\\lib\\site-packages\\keras\\src\\optimizers\\optimizer.py\", line 1352, in _distributed_apply_gradients_fn\n        distribution.extended.update(\n    File \"C:\\Users\\shko8\\.conda\\envs\\py3_8_5\\lib\\site-packages\\keras\\src\\optimizers\\optimizer.py\", line 1349, in apply_grad_to_update_var  **\n        return self._update_step(grad, var)\n    File \"C:\\Users\\shko8\\.conda\\envs\\py3_8_5\\lib\\site-packages\\keras\\src\\optimizers\\optimizer.py\", line 233, in _update_step\n        raise KeyError(\n\n    KeyError: 'The optimizer cannot recognize variable embedding_3/embeddings:0. This usually means you are trying to call the optimizer to update different parts of the model separately. Please call `optimizer.build(variables)` with the full list of trainable variables before the training loop or use legacy optimizer `tf.keras.optimizers.legacy.Adam.'\n",
     "output_type": "error",
     "traceback": [
      "\u001b[1;31m---------------------------------------------------------------------------\u001b[0m",
      "\u001b[1;31mKeyError\u001b[0m                                  Traceback (most recent call last)",
      "Cell \u001b[1;32mIn[17], line 2\u001b[0m\n\u001b[0;32m      1\u001b[0m model\u001b[38;5;241m.\u001b[39mcompile(optimizer\u001b[38;5;241m=\u001b[39madam, loss\u001b[38;5;241m=\u001b[39m\u001b[38;5;124m'\u001b[39m\u001b[38;5;124mbinary_crossentropy\u001b[39m\u001b[38;5;124m'\u001b[39m, metrics\u001b[38;5;241m=\u001b[39m[\u001b[38;5;124m'\u001b[39m\u001b[38;5;124macc\u001b[39m\u001b[38;5;124m'\u001b[39m])\n\u001b[1;32m----> 2\u001b[0m history \u001b[38;5;241m=\u001b[39m \u001b[43mmodel\u001b[49m\u001b[38;5;241;43m.\u001b[39;49m\u001b[43mfit\u001b[49m\u001b[43m(\u001b[49m\u001b[43mX_train\u001b[49m\u001b[43m,\u001b[49m\u001b[43m \u001b[49m\u001b[43my_train\u001b[49m\u001b[43m,\u001b[49m\n\u001b[0;32m      3\u001b[0m \u001b[43m                   \u001b[49m\u001b[43mepochs\u001b[49m\u001b[38;5;241;43m=\u001b[39;49m\u001b[38;5;241;43m8\u001b[39;49m\u001b[43m,\u001b[49m\n\u001b[0;32m      4\u001b[0m \u001b[43m                   \u001b[49m\u001b[43mverbose\u001b[49m\u001b[38;5;241;43m=\u001b[39;49m\u001b[38;5;241;43m0\u001b[39;49m\u001b[43m,\u001b[49m\n\u001b[0;32m      5\u001b[0m \u001b[43m                   \u001b[49m\u001b[43mvalidation_split\u001b[49m\u001b[38;5;241;43m=\u001b[39;49m\u001b[38;5;241;43m0.2\u001b[39;49m\u001b[43m)\u001b[49m\n\u001b[0;32m      6\u001b[0m plot_results(history, \u001b[38;5;124m'\u001b[39m\u001b[38;5;124macc\u001b[39m\u001b[38;5;124m'\u001b[39m)\n\u001b[0;32m      8\u001b[0m score \u001b[38;5;241m=\u001b[39m model\u001b[38;5;241m.\u001b[39mevaluate(X_test,y_test)\n",
      "File \u001b[1;32m~\\.conda\\envs\\py3_8_5\\lib\\site-packages\\keras\\src\\utils\\traceback_utils.py:70\u001b[0m, in \u001b[0;36mfilter_traceback.<locals>.error_handler\u001b[1;34m(*args, **kwargs)\u001b[0m\n\u001b[0;32m     67\u001b[0m     filtered_tb \u001b[38;5;241m=\u001b[39m _process_traceback_frames(e\u001b[38;5;241m.\u001b[39m__traceback__)\n\u001b[0;32m     68\u001b[0m     \u001b[38;5;66;03m# To get the full stack trace, call:\u001b[39;00m\n\u001b[0;32m     69\u001b[0m     \u001b[38;5;66;03m# `tf.debugging.disable_traceback_filtering()`\u001b[39;00m\n\u001b[1;32m---> 70\u001b[0m     \u001b[38;5;28;01mraise\u001b[39;00m e\u001b[38;5;241m.\u001b[39mwith_traceback(filtered_tb) \u001b[38;5;28;01mfrom\u001b[39;00m \u001b[38;5;28;01mNone\u001b[39;00m\n\u001b[0;32m     71\u001b[0m \u001b[38;5;28;01mfinally\u001b[39;00m:\n\u001b[0;32m     72\u001b[0m     \u001b[38;5;28;01mdel\u001b[39;00m filtered_tb\n",
      "File \u001b[1;32mC:\\Users\\Public\\Documents\\ESTsoft\\CreatorTemp\\__autograph_generated_filez6_umwxb.py:15\u001b[0m, in \u001b[0;36mouter_factory.<locals>.inner_factory.<locals>.tf__train_function\u001b[1;34m(iterator)\u001b[0m\n\u001b[0;32m     13\u001b[0m \u001b[38;5;28;01mtry\u001b[39;00m:\n\u001b[0;32m     14\u001b[0m     do_return \u001b[38;5;241m=\u001b[39m \u001b[38;5;28;01mTrue\u001b[39;00m\n\u001b[1;32m---> 15\u001b[0m     retval_ \u001b[38;5;241m=\u001b[39m ag__\u001b[38;5;241m.\u001b[39mconverted_call(ag__\u001b[38;5;241m.\u001b[39mld(step_function), (ag__\u001b[38;5;241m.\u001b[39mld(\u001b[38;5;28mself\u001b[39m), ag__\u001b[38;5;241m.\u001b[39mld(iterator)), \u001b[38;5;28;01mNone\u001b[39;00m, fscope)\n\u001b[0;32m     16\u001b[0m \u001b[38;5;28;01mexcept\u001b[39;00m:\n\u001b[0;32m     17\u001b[0m     do_return \u001b[38;5;241m=\u001b[39m \u001b[38;5;28;01mFalse\u001b[39;00m\n",
      "\u001b[1;31mKeyError\u001b[0m: in user code:\n\n    File \"C:\\Users\\shko8\\.conda\\envs\\py3_8_5\\lib\\site-packages\\keras\\src\\engine\\training.py\", line 1338, in train_function  *\n        return step_function(self, iterator)\n    File \"C:\\Users\\shko8\\.conda\\envs\\py3_8_5\\lib\\site-packages\\keras\\src\\engine\\training.py\", line 1322, in step_function  **\n        outputs = model.distribute_strategy.run(run_step, args=(data,))\n    File \"C:\\Users\\shko8\\.conda\\envs\\py3_8_5\\lib\\site-packages\\keras\\src\\engine\\training.py\", line 1303, in run_step  **\n        outputs = model.train_step(data)\n    File \"C:\\Users\\shko8\\.conda\\envs\\py3_8_5\\lib\\site-packages\\keras\\src\\engine\\training.py\", line 1084, in train_step\n        self.optimizer.minimize(loss, self.trainable_variables, tape=tape)\n    File \"C:\\Users\\shko8\\.conda\\envs\\py3_8_5\\lib\\site-packages\\keras\\src\\optimizers\\optimizer.py\", line 544, in minimize\n        self.apply_gradients(grads_and_vars)\n    File \"C:\\Users\\shko8\\.conda\\envs\\py3_8_5\\lib\\site-packages\\keras\\src\\optimizers\\optimizer.py\", line 1230, in apply_gradients\n        return super().apply_gradients(grads_and_vars, name=name)\n    File \"C:\\Users\\shko8\\.conda\\envs\\py3_8_5\\lib\\site-packages\\keras\\src\\optimizers\\optimizer.py\", line 652, in apply_gradients\n        iteration = self._internal_apply_gradients(grads_and_vars)\n    File \"C:\\Users\\shko8\\.conda\\envs\\py3_8_5\\lib\\site-packages\\keras\\src\\optimizers\\optimizer.py\", line 1260, in _internal_apply_gradients\n        return tf.__internal__.distribute.interim.maybe_merge_call(\n    File \"C:\\Users\\shko8\\.conda\\envs\\py3_8_5\\lib\\site-packages\\keras\\src\\optimizers\\optimizer.py\", line 1352, in _distributed_apply_gradients_fn\n        distribution.extended.update(\n    File \"C:\\Users\\shko8\\.conda\\envs\\py3_8_5\\lib\\site-packages\\keras\\src\\optimizers\\optimizer.py\", line 1349, in apply_grad_to_update_var  **\n        return self._update_step(grad, var)\n    File \"C:\\Users\\shko8\\.conda\\envs\\py3_8_5\\lib\\site-packages\\keras\\src\\optimizers\\optimizer.py\", line 233, in _update_step\n        raise KeyError(\n\n    KeyError: 'The optimizer cannot recognize variable embedding_3/embeddings:0. This usually means you are trying to call the optimizer to update different parts of the model separately. Please call `optimizer.build(variables)` with the full list of trainable variables before the training loop or use legacy optimizer `tf.keras.optimizers.legacy.Adam.'\n"
     ]
    }
   ],
   "source": [
    "model.compile(optimizer=adam, loss='binary_crossentropy', metrics=['acc'])\n",
    "history = model.fit(X_train, y_train,\n",
    "                   epochs=8,\n",
    "                   verbose=0,\n",
    "                   validation_split=0.2)\n",
    "plot_results(history, 'acc')\n",
    "\n",
    "score = model.evaluate(X_test,y_test)\n",
    "print(f'#Test accuracy:{score[1]:.3f}')"
   ]
  },
  {
   "cell_type": "code",
   "execution_count": 18,
   "id": "6eadb879-3a31-44ed-9da2-2eafdbd1e6b2",
   "metadata": {},
   "outputs": [
    {
     "name": "stdout",
     "output_type": "stream",
     "text": [
      "1/1 [==============================] - 0s 323ms/step\n",
      "predicted value: 0.0, true value: 0, so the prediction is True\n",
      "predicted value: 0.0, true value: 1, so the prediction is False\n",
      "predicted value: 0.0, true value: 1, so the prediction is False\n",
      "predicted value: 0.0, true value: 0, so the prediction is True\n",
      "predicted value: 0.0, true value: 1, so the prediction is False\n",
      "predicted value: 0.0, true value: 1, so the prediction is False\n",
      "predicted value: 0.0, true value: 1, so the prediction is False\n",
      "predicted value: 1.0, true value: 1, so the prediction is True\n",
      "predicted value: 0.0, true value: 1, so the prediction is False\n",
      "predicted value: 0.0, true value: 0, so the prediction is True\n"
     ]
    }
   ],
   "source": [
    "y_pred = np.round(model.predict(X_test[:10]))\n",
    "for pred, y_t in zip(y_pred, y_test[:10]):\n",
    "    print(\n",
    "        f'predicted value: {pred[0]}, true value: {y_t}, so the prediction is {pred[0]==y_t}'\n",
    "    )"
   ]
  },
  {
   "cell_type": "code",
   "execution_count": null,
   "id": "09548649-10b3-4447-a632-fa9c08da3323",
   "metadata": {},
   "outputs": [],
   "source": []
  },
  {
   "cell_type": "code",
   "execution_count": null,
   "id": "dfde88b4-844c-45e7-a896-d7b5c2a6317d",
   "metadata": {},
   "outputs": [],
   "source": []
  },
  {
   "cell_type": "code",
   "execution_count": null,
   "id": "8dd8df75-2b29-4874-9195-21e4e5e9f94f",
   "metadata": {},
   "outputs": [],
   "source": []
  },
  {
   "cell_type": "code",
   "execution_count": null,
   "id": "e17058df-adc5-461b-bf7d-fb982583990b",
   "metadata": {},
   "outputs": [],
   "source": []
  }
 ],
 "metadata": {
  "kernelspec": {
   "display_name": "Python 3 (ipykernel)",
   "language": "python",
   "name": "python3"
  },
  "language_info": {
   "codemirror_mode": {
    "name": "ipython",
    "version": 3
   },
   "file_extension": ".py",
   "mimetype": "text/x-python",
   "name": "python",
   "nbconvert_exporter": "python",
   "pygments_lexer": "ipython3",
   "version": "3.8.19"
  }
 },
 "nbformat": 4,
 "nbformat_minor": 5
}
