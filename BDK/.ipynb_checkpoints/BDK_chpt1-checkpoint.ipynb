{
 "cells": [
  {
   "cell_type": "code",
   "execution_count": 9,
   "id": "12ef8e1f-2a80-4007-95c8-ea0155baa622",
   "metadata": {},
   "outputs": [],
   "source": [
    "List = [5,-1,6,7,1,3]"
   ]
  },
  {
   "cell_type": "code",
   "execution_count": 2,
   "id": "4d9eaeca-5a60-434a-89d8-59ccd696f599",
   "metadata": {},
   "outputs": [
    {
     "name": "stdout",
     "output_type": "stream",
     "text": [
      "[5, -1, 6, 7, 1, 3, 2]\n"
     ]
    }
   ],
   "source": [
    "List.append(2)\n",
    "print(List)"
   ]
  },
  {
   "cell_type": "code",
   "execution_count": 3,
   "id": "4f96f468-7c6b-4e4e-a0ee-1707b48ee95b",
   "metadata": {},
   "outputs": [
    {
     "name": "stdout",
     "output_type": "stream",
     "text": [
      "[5, -1, 6, 8, 7, 1, 3, 2]\n"
     ]
    }
   ],
   "source": [
    "List.insert(3,8)\n",
    "print(List)"
   ]
  },
  {
   "cell_type": "code",
   "execution_count": 4,
   "id": "7dc49736-8983-4bc5-988e-a5ed3e87e5ac",
   "metadata": {},
   "outputs": [
    {
     "name": "stdout",
     "output_type": "stream",
     "text": [
      "[5, -1, 6, 7, 1, 3, 2]\n"
     ]
    }
   ],
   "source": [
    "List.remove(8)\n",
    "print(List)"
   ]
  },
  {
   "cell_type": "code",
   "execution_count": 5,
   "id": "fd9569e6-fc83-4857-9c32-12bdb8b5b3a9",
   "metadata": {},
   "outputs": [
    {
     "name": "stdout",
     "output_type": "stream",
     "text": [
      "[5, -1, 6, 7, 1, 3]\n"
     ]
    }
   ],
   "source": [
    "List_2 = List.pop()\n",
    "print(List)"
   ]
  },
  {
   "cell_type": "code",
   "execution_count": 6,
   "id": "86393e45-3431-4920-a38b-48e25fc91383",
   "metadata": {},
   "outputs": [
    {
     "name": "stdout",
     "output_type": "stream",
     "text": [
      "2\n"
     ]
    }
   ],
   "source": [
    "print(List_2)"
   ]
  },
  {
   "cell_type": "code",
   "execution_count": 7,
   "id": "b7bb1f6b-ef1c-436e-bc0a-ef32f22b6bd5",
   "metadata": {},
   "outputs": [
    {
     "name": "stdout",
     "output_type": "stream",
     "text": [
      "[-1, 1, 3, 5, 6, 7]\n"
     ]
    }
   ],
   "source": [
    "List.sort()\n",
    "print(List)"
   ]
  },
  {
   "cell_type": "code",
   "execution_count": 8,
   "id": "8ddf9c06-5b86-41f4-8510-63df7fd53a76",
   "metadata": {},
   "outputs": [
    {
     "name": "stdout",
     "output_type": "stream",
     "text": [
      "[7, 6, 5, 3, 1, -1]\n"
     ]
    }
   ],
   "source": [
    "List.sort(reverse=True)\n",
    "print(List)"
   ]
  },
  {
   "cell_type": "code",
   "execution_count": 10,
   "id": "4b1fc16b-feac-4772-a871-cbb7dbcee02a",
   "metadata": {},
   "outputs": [
    {
     "name": "stdout",
     "output_type": "stream",
     "text": [
      "[3, 1, 7, 6, -1, 5]\n"
     ]
    }
   ],
   "source": [
    "List.reverse()\n",
    "print(List)"
   ]
  },
  {
   "cell_type": "code",
   "execution_count": 11,
   "id": "3c1c3086-65da-434b-a270-97fb10915bff",
   "metadata": {},
   "outputs": [],
   "source": [
    "List = [5, 9, 6, 7, 1, 3]"
   ]
  },
  {
   "cell_type": "code",
   "execution_count": 12,
   "id": "fa477ac0-4c3d-478f-90de-8b112e598b0f",
   "metadata": {},
   "outputs": [
    {
     "name": "stdout",
     "output_type": "stream",
     "text": [
      "[5, 9, 6, 7, 1, 3]\n"
     ]
    }
   ],
   "source": [
    "List_1 = List.copy()\n",
    "print(List_1)"
   ]
  },
  {
   "cell_type": "code",
   "execution_count": 14,
   "id": "bf4716f4-b558-491c-a464-5e8e133c10f6",
   "metadata": {},
   "outputs": [],
   "source": [
    "List_1[1] = -1"
   ]
  },
  {
   "cell_type": "code",
   "execution_count": 15,
   "id": "d557747e-0428-4050-b2d9-3d5c69571a9a",
   "metadata": {},
   "outputs": [
    {
     "name": "stdout",
     "output_type": "stream",
     "text": [
      "[5, -1, 6, 7, 1, 3]\n"
     ]
    }
   ],
   "source": [
    "print(List_1)"
   ]
  },
  {
   "cell_type": "code",
   "execution_count": 16,
   "id": "f8de9cbf-398b-420b-bf8f-2ec471de80b1",
   "metadata": {},
   "outputs": [
    {
     "name": "stdout",
     "output_type": "stream",
     "text": [
      "[5, 9, 6, 7, 1, 3]\n"
     ]
    }
   ],
   "source": [
    "print(List)"
   ]
  },
  {
   "cell_type": "code",
   "execution_count": 17,
   "id": "9c850f38-bea8-4920-b96f-1578d93e4a29",
   "metadata": {},
   "outputs": [],
   "source": [
    "ab = List.copy()"
   ]
  },
  {
   "cell_type": "code",
   "execution_count": 19,
   "id": "b084c7fa-fa2f-4436-aa39-50bdeb16a6bb",
   "metadata": {},
   "outputs": [
    {
     "name": "stdout",
     "output_type": "stream",
     "text": [
      "[5, 9, 6, 7, 1, 3]\n"
     ]
    }
   ],
   "source": [
    "List2 = List\n",
    "print(List2)"
   ]
  },
  {
   "cell_type": "code",
   "execution_count": 20,
   "id": "a39c1c2e-7835-4db1-8066-c435f90c2c73",
   "metadata": {},
   "outputs": [],
   "source": [
    "List2[1]=-1"
   ]
  },
  {
   "cell_type": "code",
   "execution_count": 21,
   "id": "902da03e-a541-41b3-9cb5-e088eddaac5a",
   "metadata": {},
   "outputs": [
    {
     "name": "stdout",
     "output_type": "stream",
     "text": [
      "[5, -1, 6, 7, 1, 3]\n"
     ]
    }
   ],
   "source": [
    "print(List)"
   ]
  },
  {
   "cell_type": "code",
   "execution_count": 22,
   "id": "f8d9d388-2537-4906-969b-e240de35916b",
   "metadata": {},
   "outputs": [
    {
     "name": "stdout",
     "output_type": "stream",
     "text": [
      "[5, -1, 6, 7, 1, 3]\n"
     ]
    }
   ],
   "source": [
    "print(List2)"
   ]
  },
  {
   "cell_type": "code",
   "execution_count": 30,
   "id": "6d7963b2-b306-4a44-a30e-8984c9c0c5b6",
   "metadata": {},
   "outputs": [
    {
     "name": "stdout",
     "output_type": "stream",
     "text": [
      "{'A': 1, 'B': 2, 'C': 3}\n"
     ]
    }
   ],
   "source": [
    "dic = dict(A=1, B=2, C=3)\n",
    "print(dic)"
   ]
  },
  {
   "cell_type": "code",
   "execution_count": 25,
   "id": "5bbbedd0-b085-470d-ad9a-4a18bd15c55b",
   "metadata": {},
   "outputs": [
    {
     "name": "stdout",
     "output_type": "stream",
     "text": [
      "{'A': 4, 'B': 2, 'C': 3}\n"
     ]
    }
   ],
   "source": [
    "dic_3['A']=4\n",
    "print(dic_3)"
   ]
  },
  {
   "cell_type": "code",
   "execution_count": 27,
   "id": "528cb1d2-ac3b-4d18-a157-0fbbe4eb0c2c",
   "metadata": {},
   "outputs": [
    {
     "name": "stdout",
     "output_type": "stream",
     "text": [
      "4\n"
     ]
    }
   ],
   "source": [
    "print(dic_3['A'])"
   ]
  },
  {
   "cell_type": "code",
   "execution_count": 28,
   "id": "b6550d1a-8bb4-4726-93bc-dab9b75bae01",
   "metadata": {},
   "outputs": [
    {
     "name": "stdout",
     "output_type": "stream",
     "text": [
      "{'B': 2, 'C': 3}\n"
     ]
    }
   ],
   "source": [
    "del(dic_3['A'])\n",
    "print(dic_3)"
   ]
  },
  {
   "cell_type": "code",
   "execution_count": 29,
   "id": "7ff8f4e3-f084-41e7-b01b-73bc01fae58d",
   "metadata": {},
   "outputs": [
    {
     "name": "stdout",
     "output_type": "stream",
     "text": [
      "{'B': 2, 'C': 3}\n"
     ]
    }
   ],
   "source": [
    "print(dic_3)"
   ]
  },
  {
   "cell_type": "code",
   "execution_count": 31,
   "id": "d459f0e1-904a-4e8a-bd97-52d626dd874f",
   "metadata": {},
   "outputs": [
    {
     "data": {
      "text/plain": [
       "dict_keys(['A', 'B', 'C'])"
      ]
     },
     "execution_count": 31,
     "metadata": {},
     "output_type": "execute_result"
    }
   ],
   "source": [
    "dic.keys()"
   ]
  },
  {
   "cell_type": "code",
   "execution_count": 32,
   "id": "02d809c2-5576-414d-8135-efec736324b8",
   "metadata": {},
   "outputs": [
    {
     "data": {
      "text/plain": [
       "dict_values([1, 2, 3])"
      ]
     },
     "execution_count": 32,
     "metadata": {},
     "output_type": "execute_result"
    }
   ],
   "source": [
    "dic.values()"
   ]
  },
  {
   "cell_type": "code",
   "execution_count": 33,
   "id": "2dc49c5d-490d-41a9-9428-45a8647c967d",
   "metadata": {},
   "outputs": [
    {
     "data": {
      "text/plain": [
       "dict_items([('A', 1), ('B', 2), ('C', 3)])"
      ]
     },
     "execution_count": 33,
     "metadata": {},
     "output_type": "execute_result"
    }
   ],
   "source": [
    "dic.items()"
   ]
  },
  {
   "cell_type": "code",
   "execution_count": 34,
   "id": "1d7aa1be-476a-41d1-97bb-eb7a213e8b86",
   "metadata": {},
   "outputs": [
    {
     "name": "stdout",
     "output_type": "stream",
     "text": [
      "{'A': 1, 'B': 2, 'C': 3, 'D': 7}\n"
     ]
    }
   ],
   "source": [
    "dic.update({'D':7})\n",
    "print(dic)"
   ]
  },
  {
   "cell_type": "code",
   "execution_count": 35,
   "id": "3a223b64-3920-40e8-aa5d-02644fb3ac53",
   "metadata": {},
   "outputs": [],
   "source": [
    "set_1 = {1,2,3,4}\n",
    "set_2 = {'E','d','u'}\n",
    "dic_1 = {}\n",
    "set_1 = set()"
   ]
  },
  {
   "cell_type": "code",
   "execution_count": 36,
   "id": "a6bf21b9-b67e-4f01-897a-607d1153be7d",
   "metadata": {},
   "outputs": [],
   "source": [
    "set_3 = {2,4,6,8,10}\n",
    "set_4 = {4,8}"
   ]
  },
  {
   "cell_type": "code",
   "execution_count": 37,
   "id": "f8f8e774-5d3e-458e-9161-a069af7adcd4",
   "metadata": {},
   "outputs": [
    {
     "name": "stdout",
     "output_type": "stream",
     "text": [
      "{2, 4, 6, 8, 10, 12}\n"
     ]
    }
   ],
   "source": [
    "set_3.add(12)\n",
    "print(set_3)"
   ]
  },
  {
   "cell_type": "code",
   "execution_count": 38,
   "id": "dcb51e8e-f9f8-4995-81f7-b1b3ba1d7f5b",
   "metadata": {},
   "outputs": [
    {
     "name": "stdout",
     "output_type": "stream",
     "text": [
      "{8, 16, 4, 12}\n"
     ]
    }
   ],
   "source": [
    "set_4.update({12,16})\n",
    "print(set_4)"
   ]
  },
  {
   "cell_type": "code",
   "execution_count": 39,
   "id": "0278dd6a-af3f-4ce9-bf33-5a5ec636e901",
   "metadata": {},
   "outputs": [
    {
     "data": {
      "text/plain": [
       "{2, 4, 6, 8, 10, 12, 16}"
      ]
     },
     "execution_count": 39,
     "metadata": {},
     "output_type": "execute_result"
    }
   ],
   "source": [
    "set_3.union(set_4)"
   ]
  },
  {
   "cell_type": "code",
   "execution_count": 40,
   "id": "f035013a-25d8-4aef-9307-53b74fbd13db",
   "metadata": {},
   "outputs": [
    {
     "data": {
      "text/plain": [
       "{4, 8, 12}"
      ]
     },
     "execution_count": 40,
     "metadata": {},
     "output_type": "execute_result"
    }
   ],
   "source": [
    "set_3.intersection(set_4)"
   ]
  },
  {
   "cell_type": "code",
   "execution_count": 41,
   "id": "669ce4a9-0ab5-49f6-b961-53a209157d52",
   "metadata": {},
   "outputs": [
    {
     "data": {
      "text/plain": [
       "{2, 6, 10}"
      ]
     },
     "execution_count": 41,
     "metadata": {},
     "output_type": "execute_result"
    }
   ],
   "source": [
    "set_3.difference(set_4)"
   ]
  },
  {
   "cell_type": "code",
   "execution_count": 42,
   "id": "9b575d1f-ecbf-4a4c-afb8-ba0befb77cd8",
   "metadata": {},
   "outputs": [],
   "source": [
    "a = True\n",
    "b = False"
   ]
  },
  {
   "cell_type": "code",
   "execution_count": 43,
   "id": "557acc9a-1071-40fe-85a9-cd814a4416f0",
   "metadata": {},
   "outputs": [
    {
     "name": "stdout",
     "output_type": "stream",
     "text": [
      "True False False\n"
     ]
    }
   ],
   "source": [
    "print(bool(1),bool(0),bool())"
   ]
  },
  {
   "cell_type": "code",
   "execution_count": 44,
   "id": "ee1dd276-a68a-4e8e-bae3-ea396bc37b8d",
   "metadata": {},
   "outputs": [
    {
     "name": "stdout",
     "output_type": "stream",
     "text": [
      "True False False\n"
     ]
    }
   ],
   "source": [
    "print(bool('A'),bool(''),bool())"
   ]
  },
  {
   "cell_type": "code",
   "execution_count": 46,
   "id": "74a4ba6d-6889-483f-81f3-68d706078acc",
   "metadata": {},
   "outputs": [
    {
     "name": "stdout",
     "output_type": "stream",
     "text": [
      "True False\n"
     ]
    }
   ],
   "source": [
    "print(bool(['a','b']),bool([]))"
   ]
  },
  {
   "cell_type": "code",
   "execution_count": 47,
   "id": "c746a5fc-8439-4567-bb9a-a5747f685354",
   "metadata": {},
   "outputs": [
    {
     "name": "stdout",
     "output_type": "stream",
     "text": [
      "True False\n"
     ]
    }
   ],
   "source": [
    "print(bool(('a','b')),bool([]))"
   ]
  },
  {
   "cell_type": "code",
   "execution_count": 48,
   "id": "3d240a3e-be1e-4fe6-8a81-71e1835c60e2",
   "metadata": {},
   "outputs": [
    {
     "name": "stdout",
     "output_type": "stream",
     "text": [
      "True False\n"
     ]
    }
   ],
   "source": [
    "print(bool({'a':1, 'b':2, 'c':3}),bool({}))"
   ]
  },
  {
   "cell_type": "code",
   "execution_count": 49,
   "id": "fc5e6a46-2f39-49c9-94b3-79cb935c4475",
   "metadata": {},
   "outputs": [
    {
     "name": "stdout",
     "output_type": "stream",
     "text": [
      "True False\n"
     ]
    }
   ],
   "source": [
    "print(bool({'a','b'}),bool(set()))"
   ]
  },
  {
   "cell_type": "code",
   "execution_count": 51,
   "id": "ea4ace3a-b404-4296-8a15-e50b7ee0a4f0",
   "metadata": {},
   "outputs": [
    {
     "name": "stdout",
     "output_type": "stream",
     "text": [
      "<class 'str'>\n"
     ]
    }
   ],
   "source": [
    "Str='abcd'\n",
    "print(type(Str))"
   ]
  },
  {
   "cell_type": "code",
   "execution_count": 52,
   "id": "5c4050ab-8c93-4b7b-a77c-c3c57fae3ea2",
   "metadata": {},
   "outputs": [
    {
     "name": "stdout",
     "output_type": "stream",
     "text": [
      "<class 'list'>\n"
     ]
    }
   ],
   "source": [
    "List=[1,2,3,4]\n",
    "print(type(List))"
   ]
  },
  {
   "cell_type": "code",
   "execution_count": 54,
   "id": "d6bb1107-7a5e-466c-88af-e8096ed75d86",
   "metadata": {},
   "outputs": [
    {
     "name": "stdout",
     "output_type": "stream",
     "text": [
      "<class 'set'>\n"
     ]
    }
   ],
   "source": [
    "print(type(set_1))"
   ]
  },
  {
   "cell_type": "code",
   "execution_count": 55,
   "id": "c9a6eceb-7917-46ff-8eab-208333ddc9cc",
   "metadata": {},
   "outputs": [
    {
     "name": "stdout",
     "output_type": "stream",
     "text": [
      "<class 'bool'>\n"
     ]
    }
   ],
   "source": [
    "Bool = True\n",
    "print(type(Bool))"
   ]
  },
  {
   "cell_type": "code",
   "execution_count": 56,
   "id": "7843ba47-2ce6-44d5-b3a2-b835d412015e",
   "metadata": {},
   "outputs": [
    {
     "data": {
      "text/plain": [
       "4"
      ]
     },
     "execution_count": 56,
     "metadata": {},
     "output_type": "execute_result"
    }
   ],
   "source": [
    "def fun1(num):\n",
    "    return(num**2)\n",
    "fun1(2)"
   ]
  },
  {
   "cell_type": "code",
   "execution_count": 57,
   "id": "5b52b30e-5a90-4a05-b5ac-59821a796b94",
   "metadata": {},
   "outputs": [
    {
     "name": "stdout",
     "output_type": "stream",
     "text": [
      "합계:  30\n"
     ]
    }
   ],
   "source": [
    "def fun2(*args):\n",
    "    x =sum(*args)\n",
    "    print('합계: ',x)\n",
    "fun2([2,4,6,8,10])"
   ]
  },
  {
   "cell_type": "code",
   "execution_count": 58,
   "id": "c3002478-def1-4baf-8f57-ff7e1d019f42",
   "metadata": {},
   "outputs": [
    {
     "name": "stdout",
     "output_type": "stream",
     "text": [
      "3\n",
      "5\n",
      "3 + 5 = 8\n"
     ]
    }
   ],
   "source": [
    "def fun3(x,y):\n",
    "    print(x)\n",
    "    print(y)\n",
    "    def fun4(*fun3):\n",
    "        Sum = x + y\n",
    "        print(x, '+', y, '=',Sum)\n",
    "    fun4(x,y)\n",
    "fun3(3,5)"
   ]
  },
  {
   "cell_type": "code",
   "execution_count": 59,
   "id": "f40226bb-2b48-4457-a7fe-5146d67f5282",
   "metadata": {},
   "outputs": [
    {
     "name": "stdout",
     "output_type": "stream",
     "text": [
      "9 는 홀수입니다.\n"
     ]
    }
   ],
   "source": [
    "x = 9\n",
    "\n",
    "if x % 2 == 0:\n",
    "    print(x, '는 짝수입니다.')\n",
    "elif x % 2 == 1:\n",
    "    print(x, '는 홀수입니다.')\n",
    "else: \n",
    "    print('정수를 입력해주세요.')"
   ]
  },
  {
   "cell_type": "code",
   "execution_count": 60,
   "id": "6897b5f0-0349-4a7f-85a6-d1cddc430490",
   "metadata": {},
   "outputs": [
    {
     "name": "stdout",
     "output_type": "stream",
     "text": [
      "The year is 2015\n",
      "The year is 2016\n",
      "The year is 2017\n",
      "The year is 2018\n"
     ]
    }
   ],
   "source": [
    "for year in range(2015,2019):\n",
    "    print('The year is', year)"
   ]
  },
  {
   "cell_type": "code",
   "execution_count": 61,
   "id": "f6d719c5-721f-4950-9f2d-0fcb25477cbe",
   "metadata": {},
   "outputs": [
    {
     "name": "stdout",
     "output_type": "stream",
     "text": [
      "The year is 2015\n",
      "The year is 2016\n",
      "The year is 2017\n",
      "The year is 2018\n"
     ]
    }
   ],
   "source": [
    "year = 2015\n",
    "\n",
    "while year <=2018:\n",
    "    print('The year is', year)\n",
    "    year = year+1"
   ]
  },
  {
   "cell_type": "code",
   "execution_count": null,
   "id": "1d56f10b-f344-44fa-8412-9c14ff2a6796",
   "metadata": {},
   "outputs": [],
   "source": []
  },
  {
   "cell_type": "code",
   "execution_count": null,
   "id": "b2333ce0-d8b6-41bc-b00a-3a535f08e97e",
   "metadata": {},
   "outputs": [],
   "source": []
  },
  {
   "cell_type": "code",
   "execution_count": null,
   "id": "c1fddbaf-4bc2-4e8e-adca-927fbea03b9d",
   "metadata": {},
   "outputs": [],
   "source": []
  }
 ],
 "metadata": {
  "kernelspec": {
   "display_name": "Python 3 (ipykernel)",
   "language": "python",
   "name": "python3"
  },
  "language_info": {
   "codemirror_mode": {
    "name": "ipython",
    "version": 3
   },
   "file_extension": ".py",
   "mimetype": "text/x-python",
   "name": "python",
   "nbconvert_exporter": "python",
   "pygments_lexer": "ipython3",
   "version": "3.8.19"
  }
 },
 "nbformat": 4,
 "nbformat_minor": 5
}
